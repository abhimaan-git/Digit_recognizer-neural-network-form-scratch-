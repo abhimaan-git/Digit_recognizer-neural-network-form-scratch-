{
 "cells": [
  {
   "cell_type": "code",
   "execution_count": 32,
   "id": "272350d6-0f64-4f38-8ef0-6a3e11ff89e9",
   "metadata": {},
   "outputs": [],
   "source": [
    "import numpy as np\n",
    "import pandas as pd\n",
    "from matplotlib import pyplot as plt"
   ]
  },
  {
   "cell_type": "code",
   "execution_count": 33,
   "id": "515d5901-4db4-4c28-b9fe-bfa54e17a0e5",
   "metadata": {},
   "outputs": [],
   "source": [
    "data = pd.read_csv('C:/Users/admin/Desktop/Digit-Recognizer/train.csv')"
   ]
  },
  {
   "cell_type": "code",
   "execution_count": 34,
   "id": "4d88e906-6189-4ec8-9991-ff8fdf03e80c",
   "metadata": {},
   "outputs": [
    {
     "data": {
      "text/html": [
       "<div>\n",
       "<style scoped>\n",
       "    .dataframe tbody tr th:only-of-type {\n",
       "        vertical-align: middle;\n",
       "    }\n",
       "\n",
       "    .dataframe tbody tr th {\n",
       "        vertical-align: top;\n",
       "    }\n",
       "\n",
       "    .dataframe thead th {\n",
       "        text-align: right;\n",
       "    }\n",
       "</style>\n",
       "<table border=\"1\" class=\"dataframe\">\n",
       "  <thead>\n",
       "    <tr style=\"text-align: right;\">\n",
       "      <th></th>\n",
       "      <th>label</th>\n",
       "      <th>pixel0</th>\n",
       "      <th>pixel1</th>\n",
       "      <th>pixel2</th>\n",
       "      <th>pixel3</th>\n",
       "      <th>pixel4</th>\n",
       "      <th>pixel5</th>\n",
       "      <th>pixel6</th>\n",
       "      <th>pixel7</th>\n",
       "      <th>pixel8</th>\n",
       "      <th>...</th>\n",
       "      <th>pixel774</th>\n",
       "      <th>pixel775</th>\n",
       "      <th>pixel776</th>\n",
       "      <th>pixel777</th>\n",
       "      <th>pixel778</th>\n",
       "      <th>pixel779</th>\n",
       "      <th>pixel780</th>\n",
       "      <th>pixel781</th>\n",
       "      <th>pixel782</th>\n",
       "      <th>pixel783</th>\n",
       "    </tr>\n",
       "  </thead>\n",
       "  <tbody>\n",
       "    <tr>\n",
       "      <th>0</th>\n",
       "      <td>1</td>\n",
       "      <td>0</td>\n",
       "      <td>0</td>\n",
       "      <td>0</td>\n",
       "      <td>0</td>\n",
       "      <td>0</td>\n",
       "      <td>0</td>\n",
       "      <td>0</td>\n",
       "      <td>0</td>\n",
       "      <td>0</td>\n",
       "      <td>...</td>\n",
       "      <td>0</td>\n",
       "      <td>0</td>\n",
       "      <td>0</td>\n",
       "      <td>0</td>\n",
       "      <td>0</td>\n",
       "      <td>0</td>\n",
       "      <td>0</td>\n",
       "      <td>0</td>\n",
       "      <td>0</td>\n",
       "      <td>0</td>\n",
       "    </tr>\n",
       "    <tr>\n",
       "      <th>1</th>\n",
       "      <td>0</td>\n",
       "      <td>0</td>\n",
       "      <td>0</td>\n",
       "      <td>0</td>\n",
       "      <td>0</td>\n",
       "      <td>0</td>\n",
       "      <td>0</td>\n",
       "      <td>0</td>\n",
       "      <td>0</td>\n",
       "      <td>0</td>\n",
       "      <td>...</td>\n",
       "      <td>0</td>\n",
       "      <td>0</td>\n",
       "      <td>0</td>\n",
       "      <td>0</td>\n",
       "      <td>0</td>\n",
       "      <td>0</td>\n",
       "      <td>0</td>\n",
       "      <td>0</td>\n",
       "      <td>0</td>\n",
       "      <td>0</td>\n",
       "    </tr>\n",
       "    <tr>\n",
       "      <th>2</th>\n",
       "      <td>1</td>\n",
       "      <td>0</td>\n",
       "      <td>0</td>\n",
       "      <td>0</td>\n",
       "      <td>0</td>\n",
       "      <td>0</td>\n",
       "      <td>0</td>\n",
       "      <td>0</td>\n",
       "      <td>0</td>\n",
       "      <td>0</td>\n",
       "      <td>...</td>\n",
       "      <td>0</td>\n",
       "      <td>0</td>\n",
       "      <td>0</td>\n",
       "      <td>0</td>\n",
       "      <td>0</td>\n",
       "      <td>0</td>\n",
       "      <td>0</td>\n",
       "      <td>0</td>\n",
       "      <td>0</td>\n",
       "      <td>0</td>\n",
       "    </tr>\n",
       "    <tr>\n",
       "      <th>3</th>\n",
       "      <td>4</td>\n",
       "      <td>0</td>\n",
       "      <td>0</td>\n",
       "      <td>0</td>\n",
       "      <td>0</td>\n",
       "      <td>0</td>\n",
       "      <td>0</td>\n",
       "      <td>0</td>\n",
       "      <td>0</td>\n",
       "      <td>0</td>\n",
       "      <td>...</td>\n",
       "      <td>0</td>\n",
       "      <td>0</td>\n",
       "      <td>0</td>\n",
       "      <td>0</td>\n",
       "      <td>0</td>\n",
       "      <td>0</td>\n",
       "      <td>0</td>\n",
       "      <td>0</td>\n",
       "      <td>0</td>\n",
       "      <td>0</td>\n",
       "    </tr>\n",
       "    <tr>\n",
       "      <th>4</th>\n",
       "      <td>0</td>\n",
       "      <td>0</td>\n",
       "      <td>0</td>\n",
       "      <td>0</td>\n",
       "      <td>0</td>\n",
       "      <td>0</td>\n",
       "      <td>0</td>\n",
       "      <td>0</td>\n",
       "      <td>0</td>\n",
       "      <td>0</td>\n",
       "      <td>...</td>\n",
       "      <td>0</td>\n",
       "      <td>0</td>\n",
       "      <td>0</td>\n",
       "      <td>0</td>\n",
       "      <td>0</td>\n",
       "      <td>0</td>\n",
       "      <td>0</td>\n",
       "      <td>0</td>\n",
       "      <td>0</td>\n",
       "      <td>0</td>\n",
       "    </tr>\n",
       "  </tbody>\n",
       "</table>\n",
       "<p>5 rows × 785 columns</p>\n",
       "</div>"
      ],
      "text/plain": [
       "   label  pixel0  pixel1  pixel2  pixel3  pixel4  pixel5  pixel6  pixel7  \\\n",
       "0      1       0       0       0       0       0       0       0       0   \n",
       "1      0       0       0       0       0       0       0       0       0   \n",
       "2      1       0       0       0       0       0       0       0       0   \n",
       "3      4       0       0       0       0       0       0       0       0   \n",
       "4      0       0       0       0       0       0       0       0       0   \n",
       "\n",
       "   pixel8  ...  pixel774  pixel775  pixel776  pixel777  pixel778  pixel779  \\\n",
       "0       0  ...         0         0         0         0         0         0   \n",
       "1       0  ...         0         0         0         0         0         0   \n",
       "2       0  ...         0         0         0         0         0         0   \n",
       "3       0  ...         0         0         0         0         0         0   \n",
       "4       0  ...         0         0         0         0         0         0   \n",
       "\n",
       "   pixel780  pixel781  pixel782  pixel783  \n",
       "0         0         0         0         0  \n",
       "1         0         0         0         0  \n",
       "2         0         0         0         0  \n",
       "3         0         0         0         0  \n",
       "4         0         0         0         0  \n",
       "\n",
       "[5 rows x 785 columns]"
      ]
     },
     "execution_count": 34,
     "metadata": {},
     "output_type": "execute_result"
    }
   ],
   "source": [
    "data.head()"
   ]
  },
  {
   "cell_type": "code",
   "execution_count": 35,
   "id": "31a332de-b6aa-4af1-a606-35e92bbfd620",
   "metadata": {},
   "outputs": [
    {
     "data": {
      "text/plain": [
       "(42000, 785)"
      ]
     },
     "execution_count": 35,
     "metadata": {},
     "output_type": "execute_result"
    }
   ],
   "source": [
    "data.shape"
   ]
  },
  {
   "cell_type": "code",
   "execution_count": 13,
   "id": "23509c5c-3dd7-4923-975e-cff0079c6b9c",
   "metadata": {},
   "outputs": [],
   "source": [
    "data = np.array(data)\n",
    "m, n = data.shape      # m,n are rows and columns\n",
    "np.random.shuffle(data) # shuffle before splitting into dev and training sets\n",
    "\n",
    "data_dev = data[0:1000].T\n",
    "Y_dev = data_dev[0]\n",
    "X_dev = data_dev[1:n]\n",
    "X_dev = X_dev / 255.\n",
    "\n",
    "data_train = data[1000:m].T\n",
    "Y_train = data_train[0]\n",
    "X_train = data_train[1:n]\n",
    "X_train = X_train / 255.\n",
    "_,m_train = X_train.shape\n"
   ]
  },
  {
   "cell_type": "code",
   "execution_count": 9,
   "id": "619c7b50-5cb7-451c-8978-d66b0308570a",
   "metadata": {},
   "outputs": [
    {
     "data": {
      "text/plain": [
       "(784,)"
      ]
     },
     "execution_count": 9,
     "metadata": {},
     "output_type": "execute_result"
    }
   ],
   "source": [
    "X_train[:,0].shape "
   ]
  },
  {
   "cell_type": "code",
   "execution_count": 14,
   "id": "4a6725cc-29a6-4594-80e4-77d8017ec5f0",
   "metadata": {},
   "outputs": [
    {
     "data": {
      "text/plain": [
       "array([8, 3, 6, ..., 8, 1, 1], dtype=int64)"
      ]
     },
     "execution_count": 14,
     "metadata": {},
     "output_type": "execute_result"
    }
   ],
   "source": [
    "Y_train"
   ]
  },
  {
   "attachments": {
    "cec8507e-428f-4e7b-8f0c-34593fcb29bd.png": {
     "image/png": "[encoded data removed]"
    }
   },
   "cell_type": "raw",
   "id": "85571c46-a796-428c-a12b-dc32e3ac62e6",
   "metadata": {},
   "source": [
    "# Our NN will have a simple two-layer architecture. Input layer  a[0]\n",
    "#   will have 784 units corresponding to the 784 pixels in each 28x28 input image. A hidden layer  a[1]\n",
    "#   will have 10 units with ReLU activation, and finally our output layer  a[2]\n",
    "#   will have 10 units corresponding to the ten digit classes with softmax activation.\n",
    "\n",
    "# Forward propagation\n",
    "\n",
    "# Z[1]=W[1]X+b[1]\n",
    "# A[1]=gReLU(Z[1]))\n",
    "# Z[2]=W[2]A[1]+b[2]\n",
    "# A[2]=gsoftmax(Z[2])\n",
    " \n",
    "# Backward propagation\n",
    "\n",
    "# dZ[2]=A[2]−Y\n",
    "# dW[2]=1mdZ[2]A[1]T\n",
    "# dB[2]=1mΣdZ[2]\n",
    "# dZ[1]=W[2]TdZ[2].∗g[1]′(z[1])\n",
    "# dW[1]=1mdZ[1]A[0]T\n",
    "# dB[1]=1mΣdZ[1]\n",
    "\n",
    "# Parameter updates\n",
    "\n",
    "# W[2]:=W[2]−αdW[2]\n",
    "# b[2]:=b[2]−αdb[2]\n",
    "# W[1]:=W[1]−αdW[1]\n",
    "# b[1]:=b[1]−αdb[1]\n",
    "\n",
    "# Vars and shapes\n",
    "\n",
    "# Forward prop\n",
    "\n",
    "# A[0]=X  : 784 x m\n",
    "# Z[1]∼A[1] : 10 x m\n",
    "# W[1] : 10 x 784 (as  W[1]A[0]∼Z[1] )\n",
    "# B[1]  : 10 x 1\n",
    "# Z[2]∼A[2] : 10 x m\n",
    "# W[1] : 10 x 10 (as  W[2]A[1]∼Z[2] )\n",
    "# B[2] : 10 x 1\n",
    "\n",
    "# Back-prop\n",
    "\n",
    "# dZ[2] : 10 x m (  A[2] )\n",
    "# dW[2] : 10 x 10\n",
    "# dB[2] : 10 x 1\n",
    "# dZ[1] : 10 x m (  A[1])\n",
    "# dW[1] : 10 x 10\n",
    "# dB[1] : 10 x 1"
   ]
  },
  {
   "cell_type": "code",
   "execution_count": 18,
   "id": "60fba1cc-9ea0-4194-b6c4-4f134c1061b8",
   "metadata": {},
   "outputs": [],
   "source": [
    "def init_params():\n",
    "    W1 = np.random.rand(10, 784) - 0.5\n",
    "    b1 = np.random.rand(10, 1) - 0.5\n",
    "    W2 = np.random.rand(10, 10) - 0.5\n",
    "    b2 = np.random.rand(10, 1) - 0.5\n",
    "    return W1, b1, W2, b2\n",
    "\n",
    "def ReLU(Z):\n",
    "    return np.maximum(Z, 0)\n",
    "\n",
    "def softmax(Z):\n",
    "    A = np.exp(Z) / sum(np.exp(Z))\n",
    "    return A\n",
    "    \n",
    "def forward_prop(W1, b1, W2, b2, X):\n",
    "    Z1 = W1.dot(X) + b1\n",
    "    A1 = ReLU(Z1)\n",
    "    Z2 = W2.dot(A1) + b2\n",
    "    A2 = softmax(Z2)\n",
    "    return Z1, A1, Z2, A2\n",
    "\n",
    "def ReLU_deriv(Z):\n",
    "    return Z > 0\n",
    "\n",
    "def one_hot(Y):\n",
    "    one_hot_Y = np.zeros((Y.size, Y.max() + 1))\n",
    "    one_hot_Y[np.arange(Y.size), Y] = 1\n",
    "    one_hot_Y = one_hot_Y.T\n",
    "    return one_hot_Y\n",
    "\n",
    "def backward_prop(Z1, A1, Z2, A2, W1, W2, X, Y):\n",
    "    one_hot_Y = one_hot(Y)\n",
    "    dZ2 = A2 - one_hot_Y\n",
    "    dW2 = 1 / m * dZ2.dot(A1.T)\n",
    "    db2 = 1 / m * np.sum(dZ2)\n",
    "    dZ1 = W2.T.dot(dZ2) * ReLU_deriv(Z1)\n",
    "    dW1 = 1 / m * dZ1.dot(X.T)\n",
    "    db1 = 1 / m * np.sum(dZ1)\n",
    "    return dW1, db1, dW2, db2\n",
    "\n",
    "def update_params(W1, b1, W2, b2, dW1, db1, dW2, db2, alpha):\n",
    "    W1 = W1 - alpha * dW1\n",
    "    b1 = b1 - alpha * db1    \n",
    "    W2 = W2 - alpha * dW2  \n",
    "    b2 = b2 - alpha * db2    \n",
    "    return W1, b1, W2, b2\n"
   ]
  },
  {
   "cell_type": "code",
   "execution_count": null,
   "id": "5e10973e-9b66-484a-8c88-1eb5ad4e429d",
   "metadata": {},
   "outputs": [],
   "source": []
  },
  {
   "cell_type": "code",
   "execution_count": null,
   "id": "32a0e997-a278-4d23-af1b-d911def11039",
   "metadata": {},
   "outputs": [],
   "source": []
  },
  {
   "cell_type": "code",
   "execution_count": 21,
   "id": "0c7dcb3f-89db-44ed-bb4b-69e43d6ad3d3",
   "metadata": {},
   "outputs": [],
   "source": [
    "def get_predictions(A2):\n",
    "    return np.argmax(A2, 0)\n",
    "\n",
    "def get_accuracy(predictions, Y):\n",
    "    print(predictions, Y)\n",
    "    return np.sum(predictions == Y) / Y.size\n",
    "\n",
    "def gradient_descent(X, Y, alpha, iterations):\n",
    "    W1, b1, W2, b2 = init_params()\n",
    "    for i in range(iterations):\n",
    "        Z1, A1, Z2, A2 = forward_prop(W1, b1, W2, b2, X)\n",
    "        dW1, db1, dW2, db2 = backward_prop(Z1, A1, Z2, A2, W1, W2, X, Y)\n",
    "        W1, b1, W2, b2 = update_params(W1, b1, W2, b2, dW1, db1, dW2, db2, alpha)\n",
    "        if i % 10 == 0:\n",
    "            print(\"Iteration: \", i)\n",
    "            predictions = get_predictions(A2)\n",
    "            print(get_accuracy(predictions, Y))\n",
    "    return W1, b1, W2, b2"
   ]
  },
  {
   "cell_type": "code",
   "execution_count": 20,
   "id": "105a80fa-cf29-4cd7-8dfd-4a8c1ecb8149",
   "metadata": {},
   "outputs": [
    {
     "ename": "AxisError",
     "evalue": "axis 2 is out of bounds for array of dimension 2",
     "output_type": "error",
     "traceback": [
      "\u001b[1;31m---------------------------------------------------------------------------\u001b[0m",
      "\u001b[1;31mAxisError\u001b[0m                                 Traceback (most recent call last)",
      "Cell \u001b[1;32mIn[20], line 1\u001b[0m\n\u001b[1;32m----> 1\u001b[0m W1, b1 ,W2, b2 \u001b[38;5;241m=\u001b[39mgradient_descent(X_train , Y_train, \u001b[38;5;241m0.10\u001b[39m, \u001b[38;5;241m500\u001b[39m)\n",
      "Cell \u001b[1;32mIn[19], line 11\u001b[0m, in \u001b[0;36mgradient_descent\u001b[1;34m(X, Y, alpha, iterations)\u001b[0m\n\u001b[0;32m      9\u001b[0m \u001b[38;5;28;01mfor\u001b[39;00m i \u001b[38;5;129;01min\u001b[39;00m \u001b[38;5;28mrange\u001b[39m(iterations):\n\u001b[0;32m     10\u001b[0m     Z1, A1 ,Z2, A2 \u001b[38;5;241m=\u001b[39m forward_prop(W1 , b1 , W2 , b2, X)\n\u001b[1;32m---> 11\u001b[0m     dW1 , db1 , dW2 ,db2 \u001b[38;5;241m=\u001b[39m back_prop(Z1, A1, Z2, A2 ,W2, X, Y)\n\u001b[0;32m     12\u001b[0m     W1, b1 ,W2 ,b2 \u001b[38;5;241m=\u001b[39m update_params(W1 , b1 , W2 , b2 , dW1 , db1 , dW2 ,db2 , alpha)\n\u001b[0;32m     13\u001b[0m     \u001b[38;5;28;01mif\u001b[39;00m (i \u001b[38;5;241m%\u001b[39m \u001b[38;5;241m10\u001b[39m \u001b[38;5;241m==\u001b[39m \u001b[38;5;241m0\u001b[39m):\n",
      "Cell \u001b[1;32mIn[15], line 35\u001b[0m, in \u001b[0;36mback_prop\u001b[1;34m(Z1, A1, Z2, A2, W2, X, Y)\u001b[0m\n\u001b[0;32m     33\u001b[0m dZ2 \u001b[38;5;241m=\u001b[39m A2 \u001b[38;5;241m-\u001b[39m one_hot_Y\n\u001b[0;32m     34\u001b[0m dW2 \u001b[38;5;241m=\u001b[39m \u001b[38;5;241m1\u001b[39m \u001b[38;5;241m/\u001b[39m m \u001b[38;5;241m*\u001b[39m dZ2\u001b[38;5;241m.\u001b[39mdot(A1\u001b[38;5;241m.\u001b[39mT)\n\u001b[1;32m---> 35\u001b[0m db2 \u001b[38;5;241m=\u001b[39m \u001b[38;5;241m1\u001b[39m \u001b[38;5;241m/\u001b[39m m \u001b[38;5;241m*\u001b[39m np\u001b[38;5;241m.\u001b[39msum(dZ2 , \u001b[38;5;241m2\u001b[39m)\n\u001b[0;32m     36\u001b[0m dZ1 \u001b[38;5;241m=\u001b[39m W2\u001b[38;5;241m.\u001b[39mT\u001b[38;5;241m.\u001b[39mdot(dZ2) \u001b[38;5;241m*\u001b[39m deriv_ReLU(Z1)\n\u001b[0;32m     37\u001b[0m dW1 \u001b[38;5;241m=\u001b[39m \u001b[38;5;241m1\u001b[39m \u001b[38;5;241m/\u001b[39m m \u001b[38;5;241m*\u001b[39m dZ\u001b[38;5;241m.\u001b[39mdot(X\u001b[38;5;241m.\u001b[39mT)\n",
      "File \u001b[1;32mC:\\ProgramData\\anaconda3\\Lib\\site-packages\\numpy\\core\\fromnumeric.py:2313\u001b[0m, in \u001b[0;36msum\u001b[1;34m(a, axis, dtype, out, keepdims, initial, where)\u001b[0m\n\u001b[0;32m   2310\u001b[0m         \u001b[38;5;28;01mreturn\u001b[39;00m out\n\u001b[0;32m   2311\u001b[0m     \u001b[38;5;28;01mreturn\u001b[39;00m res\n\u001b[1;32m-> 2313\u001b[0m \u001b[38;5;28;01mreturn\u001b[39;00m _wrapreduction(a, np\u001b[38;5;241m.\u001b[39madd, \u001b[38;5;124m'\u001b[39m\u001b[38;5;124msum\u001b[39m\u001b[38;5;124m'\u001b[39m, axis, dtype, out, keepdims\u001b[38;5;241m=\u001b[39mkeepdims,\n\u001b[0;32m   2314\u001b[0m                       initial\u001b[38;5;241m=\u001b[39minitial, where\u001b[38;5;241m=\u001b[39mwhere)\n",
      "File \u001b[1;32mC:\\ProgramData\\anaconda3\\Lib\\site-packages\\numpy\\core\\fromnumeric.py:88\u001b[0m, in \u001b[0;36m_wrapreduction\u001b[1;34m(obj, ufunc, method, axis, dtype, out, **kwargs)\u001b[0m\n\u001b[0;32m     85\u001b[0m         \u001b[38;5;28;01melse\u001b[39;00m:\n\u001b[0;32m     86\u001b[0m             \u001b[38;5;28;01mreturn\u001b[39;00m reduction(axis\u001b[38;5;241m=\u001b[39maxis, out\u001b[38;5;241m=\u001b[39mout, \u001b[38;5;241m*\u001b[39m\u001b[38;5;241m*\u001b[39mpasskwargs)\n\u001b[1;32m---> 88\u001b[0m \u001b[38;5;28;01mreturn\u001b[39;00m ufunc\u001b[38;5;241m.\u001b[39mreduce(obj, axis, dtype, out, \u001b[38;5;241m*\u001b[39m\u001b[38;5;241m*\u001b[39mpasskwargs)\n",
      "\u001b[1;31mAxisError\u001b[0m: axis 2 is out of bounds for array of dimension 2"
     ]
    }
   ],
   "source": [
    "W1, b1 ,W2, b2 =gradient_descent(X_train , Y_train, 0.10, 500)"
   ]
  },
  {
   "cell_type": "code",
   "execution_count": 22,
   "id": "7074b512-f730-4d4e-86fa-1af9bdb81f9c",
   "metadata": {},
   "outputs": [
    {
     "name": "stdout",
     "output_type": "stream",
     "text": [
      "Iteration:  0\n",
      "[2 5 5 ... 5 5 5] [8 3 6 ... 8 1 1]\n",
      "0.11336585365853659\n",
      "Iteration:  10\n",
      "[2 8 6 ... 8 0 2] [8 3 6 ... 8 1 1]\n",
      "0.1854390243902439\n",
      "Iteration:  20\n",
      "[1 8 6 ... 8 0 2] [8 3 6 ... 8 1 1]\n",
      "0.2365121951219512\n",
      "Iteration:  30\n",
      "[1 8 6 ... 8 2 2] [8 3 6 ... 8 1 1]\n",
      "0.292\n",
      "Iteration:  40\n",
      "[1 1 6 ... 8 1 1] [8 3 6 ... 8 1 1]\n",
      "0.3356585365853659\n",
      "Iteration:  50\n",
      "[1 1 6 ... 1 1 1] [8 3 6 ... 8 1 1]\n",
      "0.36185365853658535\n",
      "Iteration:  60\n",
      "[1 1 6 ... 1 1 1] [8 3 6 ... 8 1 1]\n",
      "0.3827560975609756\n",
      "Iteration:  70\n",
      "[1 0 6 ... 1 1 1] [8 3 6 ... 8 1 1]\n",
      "0.40526829268292686\n",
      "Iteration:  80\n",
      "[1 2 6 ... 1 1 1] [8 3 6 ... 8 1 1]\n",
      "0.42821951219512194\n",
      "Iteration:  90\n",
      "[1 2 6 ... 2 1 1] [8 3 6 ... 8 1 1]\n",
      "0.454\n",
      "Iteration:  100\n",
      "[1 2 6 ... 2 1 1] [8 3 6 ... 8 1 1]\n",
      "0.4790243902439024\n",
      "Iteration:  110\n",
      "[1 2 6 ... 2 1 1] [8 3 6 ... 8 1 1]\n",
      "0.5029024390243902\n",
      "Iteration:  120\n",
      "[1 2 6 ... 2 1 1] [8 3 6 ... 8 1 1]\n",
      "0.5259268292682927\n",
      "Iteration:  130\n",
      "[1 2 6 ... 2 1 1] [8 3 6 ... 8 1 1]\n",
      "0.5500975609756098\n",
      "Iteration:  140\n",
      "[1 2 6 ... 2 1 1] [8 3 6 ... 8 1 1]\n",
      "0.5685853658536585\n",
      "Iteration:  150\n",
      "[1 2 6 ... 2 1 1] [8 3 6 ... 8 1 1]\n",
      "0.584780487804878\n",
      "Iteration:  160\n",
      "[1 3 6 ... 2 1 1] [8 3 6 ... 8 1 1]\n",
      "0.599780487804878\n",
      "Iteration:  170\n",
      "[1 3 6 ... 2 1 1] [8 3 6 ... 8 1 1]\n",
      "0.6151463414634146\n",
      "Iteration:  180\n",
      "[1 3 6 ... 2 1 1] [8 3 6 ... 8 1 1]\n",
      "0.6290487804878049\n",
      "Iteration:  190\n",
      "[1 3 6 ... 2 1 1] [8 3 6 ... 8 1 1]\n",
      "0.6424390243902439\n",
      "Iteration:  200\n",
      "[1 3 6 ... 2 1 1] [8 3 6 ... 8 1 1]\n",
      "0.6563658536585366\n",
      "Iteration:  210\n",
      "[1 3 6 ... 2 1 1] [8 3 6 ... 8 1 1]\n",
      "0.6688048780487805\n",
      "Iteration:  220\n",
      "[1 3 6 ... 2 1 1] [8 3 6 ... 8 1 1]\n",
      "0.6809268292682927\n",
      "Iteration:  230\n",
      "[1 3 6 ... 2 1 1] [8 3 6 ... 8 1 1]\n",
      "0.6910487804878048\n",
      "Iteration:  240\n",
      "[1 3 6 ... 8 1 1] [8 3 6 ... 8 1 1]\n",
      "0.703390243902439\n",
      "Iteration:  250\n",
      "[1 3 6 ... 8 1 1] [8 3 6 ... 8 1 1]\n",
      "0.7140487804878048\n",
      "Iteration:  260\n",
      "[1 3 6 ... 8 1 1] [8 3 6 ... 8 1 1]\n",
      "0.7231951219512195\n",
      "Iteration:  270\n",
      "[1 3 6 ... 8 1 1] [8 3 6 ... 8 1 1]\n",
      "0.7319512195121951\n",
      "Iteration:  280\n",
      "[1 3 6 ... 8 1 1] [8 3 6 ... 8 1 1]\n",
      "0.7395121951219512\n",
      "Iteration:  290\n",
      "[1 3 6 ... 8 1 1] [8 3 6 ... 8 1 1]\n",
      "0.7468536585365854\n",
      "Iteration:  300\n",
      "[1 3 6 ... 8 1 1] [8 3 6 ... 8 1 1]\n",
      "0.7536829268292683\n",
      "Iteration:  310\n",
      "[1 3 6 ... 8 1 1] [8 3 6 ... 8 1 1]\n",
      "0.7593414634146342\n",
      "Iteration:  320\n",
      "[1 3 6 ... 8 1 1] [8 3 6 ... 8 1 1]\n",
      "0.765\n",
      "Iteration:  330\n",
      "[1 3 6 ... 8 1 1] [8 3 6 ... 8 1 1]\n",
      "0.7700731707317073\n",
      "Iteration:  340\n",
      "[1 3 6 ... 8 1 1] [8 3 6 ... 8 1 1]\n",
      "0.7753170731707317\n",
      "Iteration:  350\n",
      "[1 3 6 ... 8 1 1] [8 3 6 ... 8 1 1]\n",
      "0.7799756097560976\n",
      "Iteration:  360\n",
      "[1 3 6 ... 8 1 1] [8 3 6 ... 8 1 1]\n",
      "0.7834878048780488\n",
      "Iteration:  370\n",
      "[1 3 6 ... 8 1 1] [8 3 6 ... 8 1 1]\n",
      "0.7877804878048781\n",
      "Iteration:  380\n",
      "[1 3 6 ... 8 1 1] [8 3 6 ... 8 1 1]\n",
      "0.7916585365853659\n",
      "Iteration:  390\n",
      "[1 3 6 ... 8 1 1] [8 3 6 ... 8 1 1]\n",
      "0.7954390243902439\n",
      "Iteration:  400\n",
      "[1 3 6 ... 8 1 1] [8 3 6 ... 8 1 1]\n",
      "0.7988048780487805\n",
      "Iteration:  410\n",
      "[1 3 6 ... 8 1 1] [8 3 6 ... 8 1 1]\n",
      "0.802\n",
      "Iteration:  420\n",
      "[1 3 6 ... 8 1 1] [8 3 6 ... 8 1 1]\n",
      "0.8048536585365854\n",
      "Iteration:  430\n",
      "[1 3 6 ... 8 1 1] [8 3 6 ... 8 1 1]\n",
      "0.8077560975609757\n",
      "Iteration:  440\n",
      "[1 3 6 ... 8 1 1] [8 3 6 ... 8 1 1]\n",
      "0.8100243902439025\n",
      "Iteration:  450\n",
      "[1 3 6 ... 8 1 1] [8 3 6 ... 8 1 1]\n",
      "0.8125853658536585\n",
      "Iteration:  460\n",
      "[1 3 6 ... 8 1 1] [8 3 6 ... 8 1 1]\n",
      "0.8146829268292682\n",
      "Iteration:  470\n",
      "[1 3 6 ... 8 1 1] [8 3 6 ... 8 1 1]\n",
      "0.8167317073170731\n",
      "Iteration:  480\n",
      "[1 3 6 ... 8 1 1] [8 3 6 ... 8 1 1]\n",
      "0.8182926829268292\n",
      "Iteration:  490\n",
      "[1 3 6 ... 8 1 1] [8 3 6 ... 8 1 1]\n",
      "0.8200731707317073\n"
     ]
    }
   ],
   "source": [
    "W1, b1, W2, b2 = gradient_descent(X_train, Y_train, 0.10, 500)"
   ]
  },
  {
   "cell_type": "code",
   "execution_count": 24,
   "id": "341c9c05-a315-4a85-8764-192b8deab20b",
   "metadata": {},
   "outputs": [],
   "source": [
    "#~82% accuracy on training set"
   ]
  },
  {
   "cell_type": "code",
   "execution_count": 25,
   "id": "1eaac25a-2de2-41f8-9047-ddf06aaba0d9",
   "metadata": {},
   "outputs": [],
   "source": [
    "def make_predictions(X, W1, b1, W2, b2):\n",
    "    _, _, _, A2 = forward_prop(W1, b1, W2, b2, X)\n",
    "    predictions = get_predictions(A2)\n",
    "    return predictions\n",
    "\n",
    "def test_prediction(index, W1, b1, W2, b2):\n",
    "    current_image = X_train[:, index, None]\n",
    "    prediction = make_predictions(X_train[:, index, None], W1, b1, W2, b2)\n",
    "    label = Y_train[index]\n",
    "    print(\"Prediction: \", prediction)\n",
    "    print(\"Label: \", label)\n",
    "    \n",
    "    current_image = current_image.reshape((28, 28)) * 255\n",
    "    plt.gray()\n",
    "    plt.imshow(current_image, interpolation='nearest')\n",
    "    plt.show()"
   ]
  },
  {
   "cell_type": "code",
   "execution_count": 26,
   "id": "17245b60-4c86-4cc9-979c-13668f3c9e63",
   "metadata": {},
   "outputs": [
    {
     "name": "stdout",
     "output_type": "stream",
     "text": [
      "Prediction:  [1]\n",
      "Label:  8\n"
     ]
    },
    {
     "data": {
      "image/png": "[encoded data removed]",
      "text/plain": [
       "<Figure size 640x480 with 1 Axes>"
      ]
     },
     "metadata": {},
     "output_type": "display_data"
    },
    {
     "name": "stdout",
     "output_type": "stream",
     "text": [
      "Prediction:  [3]\n",
      "Label:  3\n"
     ]
    },
    {
     "data": {
      "image/png": "[encoded data removed]",
      "text/plain": [
       "<Figure size 640x480 with 1 Axes>"
      ]
     },
     "metadata": {},
     "output_type": "display_data"
    },
    {
     "name": "stdout",
     "output_type": "stream",
     "text": [
      "Prediction:  [6]\n",
      "Label:  6\n"
     ]
    },
    {
     "data": {
      "image/png": "[encoded data removed]",
      "text/plain": [
       "<Figure size 640x480 with 1 Axes>"
      ]
     },
     "metadata": {},
     "output_type": "display_data"
    },
    {
     "name": "stdout",
     "output_type": "stream",
     "text": [
      "Prediction:  [2]\n",
      "Label:  2\n"
     ]
    },
    {
     "data": {
      "image/png": "[encoded data removed]",
      "text/plain": [
       "<Figure size 640x480 with 1 Axes>"
      ]
     },
     "metadata": {},
     "output_type": "display_data"
    }
   ],
   "source": [
    "test_prediction(0, W1, b1, W2, b2)\n",
    "test_prediction(1, W1, b1, W2, b2)\n",
    "test_prediction(2, W1, b1, W2, b2)\n",
    "test_prediction(3, W1, b1, W2, b2)"
   ]
  },
  {
   "cell_type": "code",
   "execution_count": 27,
   "id": "4ef55668-8de1-4852-845b-984a19379f9b",
   "metadata": {},
   "outputs": [
    {
     "name": "stdout",
     "output_type": "stream",
     "text": [
      "[7 5 1 9 5 2 6 3 3 6 8 0 3 4 1 1 9 6 5 5 0 3 3 1 5 9 9 1 2 2 0 7 9 5 9 9 3\n",
      " 1 5 1 3 3 1 2 3 4 6 1 4 2 8 9 2 3 0 3 5 7 1 9 0 1 9 3 1 0 6 1 9 2 7 1 1 0\n",
      " 5 8 7 7 9 5 7 1 6 2 0 7 6 7 0 3 6 8 7 9 6 4 3 3 4 4 7 6 3 0 1 0 6 2 3 9 1\n",
      " 7 9 2 0 6 0 2 5 5 0 9 6 6 8 8 2 3 8 5 8 4 6 8 2 7 8 3 5 9 6 4 8 7 4 6 2 1\n",
      " 3 2 4 7 1 4 4 1 7 2 8 2 7 1 4 7 4 6 8 9 8 4 7 6 5 5 1 1 1 5 8 9 8 6 0 8 0\n",
      " 2 1 3 6 9 8 5 0 1 6 8 9 4 4 9 6 0 6 9 6 8 0 1 8 1 3 9 7 5 2 9 3 1 9 3 6 3\n",
      " 6 8 2 9 8 8 5 9 4 9 9 2 9 1 6 8 1 5 6 8 2 3 4 8 1 2 0 4 8 0 9 4 7 8 4 7 6\n",
      " 6 0 6 2 1 5 7 9 0 3 1 4 3 4 4 0 7 0 7 5 7 0 4 8 1 4 5 8 5 5 9 7 3 7 9 4 5\n",
      " 9 5 7 2 3 1 8 0 5 4 9 3 2 6 1 2 2 2 9 0 7 0 1 5 8 6 3 4 2 4 1 9 7 2 2 9 2\n",
      " 5 5 3 5 3 4 0 3 8 3 4 6 9 5 2 1 8 6 0 3 5 3 8 5 1 7 5 9 3 8 7 0 1 1 2 9 6\n",
      " 7 8 6 0 6 1 7 3 9 9 3 0 1 6 2 6 1 1 9 1 6 0 3 7 2 6 7 2 5 3 6 5 7 1 4 5 4\n",
      " 8 8 1 9 2 5 0 8 7 4 2 1 2 4 3 9 4 0 0 4 1 8 1 4 8 8 7 0 9 3 3 7 7 5 6 1 4\n",
      " 0 1 0 1 9 8 4 3 4 7 0 0 9 1 6 3 1 5 4 6 6 1 6 1 6 6 6 4 1 8 5 2 7 3 8 8 3\n",
      " 1 1 9 0 0 1 1 2 1 7 8 9 9 8 0 6 0 9 7 6 1 6 8 1 3 0 4 2 4 3 1 8 0 0 9 8 7\n",
      " 9 6 4 0 2 5 6 2 4 8 8 4 8 0 7 8 9 4 2 5 6 2 9 1 8 2 9 7 8 8 1 1 5 9 4 9 9\n",
      " 1 6 3 3 0 2 3 2 4 5 4 9 8 3 6 3 2 3 8 1 7 6 9 4 9 6 5 3 4 0 9 5 8 6 4 9 9\n",
      " 8 9 4 7 4 8 2 5 2 1 3 2 4 8 1 0 8 1 8 3 1 5 1 2 3 1 0 3 4 0 9 9 6 5 2 6 9\n",
      " 4 0 7 9 9 7 3 6 4 6 7 4 3 8 1 1 9 0 7 8 5 3 2 1 5 6 6 0 3 6 8 8 6 7 7 4 6\n",
      " 3 1 5 6 8 7 4 7 5 3 5 6 1 3 2 9 5 3 2 2 7 0 0 6 5 6 3 8 2 4 1 0 5 9 1 6 7\n",
      " 4 6 6 9 9 5 0 1 3 9 9 6 2 8 0 2 5 0 6 5 8 1 6 8 3 2 1 7 3 4 2 5 6 6 4 4 0\n",
      " 5 3 1 0 8 3 7 4 4 1 5 0 3 5 0 7 1 9 5 9 9 1 0 4 8 7 6 5 2 6 6 4 0 8 1 0 5\n",
      " 9 1 7 4 0 0 3 0 5 5 2 5 9 0 8 5 6 1 3 8 9 2 6 1 1 2 6 7 9 1 0 4 6 8 7 0 6\n",
      " 7 1 7 9 2 8 3 1 9 9 6 5 9 0 6 1 5 2 4 1 7 6 4 8 3 8 2 8 8 2 1 5 2 4 6 5 2\n",
      " 9 8 1 2 9 3 7 1 4 7 9 0 3 9 2 2 4 0 2 5 9 6 0 5 1 6 4 8 2 0 9 5 4 8 7 0 5\n",
      " 0 9 1 2 4 9 6 9 9 7 2 4 0 8 5 0 6 3 9 9 8 8 7 8 1 3 6 7 4 3 2 7 8 6 5 9 9\n",
      " 9 7 7 9 1 6 3 5 2 1 3 3 3 3 1 8 4 3 0 9 5 0 5 0 8 6 1 0 4 7 0 1 9 1 8 7 9\n",
      " 2 3 2 2 9 7 0 9 0 9 0 0 7 6 9 0 5 5 8 3 1 3 6 9 0 0 1 9 8 7 5 8 5 1 5 9 2\n",
      " 3] [7 5 1 9 5 2 6 3 3 6 8 0 8 4 1 1 9 2 5 5 0 3 3 9 5 9 9 1 2 2 0 7 9 3 9 9 3\n",
      " 1 5 1 3 3 1 2 3 4 6 1 4 2 8 9 2 8 0 8 5 7 1 4 0 1 9 2 1 0 6 1 9 3 3 1 1 0\n",
      " 5 8 7 7 7 5 7 1 6 5 0 7 6 7 0 3 6 8 7 9 6 9 3 3 4 4 7 6 2 0 1 0 6 2 1 7 2\n",
      " 7 8 2 0 4 0 2 5 5 0 9 6 6 8 8 2 3 8 5 1 4 6 8 2 7 8 3 2 9 2 4 8 5 4 8 2 1\n",
      " 3 1 4 7 1 4 4 1 7 3 8 2 7 1 4 7 4 6 8 9 1 4 7 6 5 5 1 1 1 3 7 9 8 6 0 8 0\n",
      " 2 1 3 6 9 4 3 0 1 6 8 9 4 4 9 6 0 6 9 6 8 0 1 8 1 3 9 7 8 2 9 3 1 4 3 6 3\n",
      " 6 8 2 9 8 8 5 9 4 9 9 2 9 1 6 2 1 5 6 8 2 3 4 8 1 3 0 4 0 6 9 4 7 8 4 9 6\n",
      " 6 0 6 2 1 3 9 9 0 3 1 9 7 4 9 0 7 0 7 3 7 0 4 8 1 4 5 8 5 5 9 7 3 7 9 4 8\n",
      " 9 5 7 2 3 1 2 0 5 4 9 3 2 6 1 2 2 2 9 0 7 5 1 3 8 6 3 4 2 4 1 9 7 2 2 4 3\n",
      " 5 6 3 5 3 4 0 5 8 9 4 6 9 5 2 1 8 6 0 3 5 3 8 5 1 7 5 9 3 1 7 0 1 1 2 4 6\n",
      " 7 8 6 0 6 1 7 5 9 7 3 0 1 6 2 6 1 7 4 1 6 0 3 7 2 6 7 2 5 3 6 3 7 1 4 5 4\n",
      " 8 2 1 9 9 5 5 8 7 4 2 1 2 4 3 4 4 0 0 9 1 8 1 4 7 8 7 0 9 8 3 7 7 5 6 1 4\n",
      " 5 1 0 1 7 3 4 3 4 7 0 0 9 1 6 5 1 3 4 6 6 1 5 7 6 6 6 6 1 8 5 2 7 2 8 8 3\n",
      " 8 1 3 0 8 1 1 2 1 4 3 9 9 2 0 6 0 9 7 6 1 6 8 9 3 0 4 2 4 2 1 3 0 0 9 8 7\n",
      " 9 6 9 3 6 8 6 2 4 8 8 4 8 0 7 8 7 4 2 5 6 2 9 1 8 2 9 7 8 8 1 1 5 7 4 9 9\n",
      " 1 6 3 3 0 7 3 8 4 5 4 9 8 8 6 3 2 3 8 1 7 6 4 4 9 6 5 3 2 0 8 5 8 6 9 9 9\n",
      " 8 4 4 7 9 8 2 0 2 1 3 2 9 0 1 0 8 1 8 3 1 3 1 2 8 1 0 3 4 0 9 9 6 0 2 6 9\n",
      " 4 0 7 4 9 7 3 6 4 6 7 7 3 5 1 1 9 0 7 8 6 3 3 2 5 6 6 0 3 2 5 8 6 7 7 9 6\n",
      " 8 1 3 6 8 9 4 7 5 3 3 6 1 3 2 9 3 3 2 2 7 0 5 6 5 6 1 8 2 9 1 0 3 9 1 6 9\n",
      " 4 6 6 9 9 5 0 1 3 2 9 6 2 8 0 2 5 0 6 5 8 1 6 2 3 2 1 7 3 4 2 5 6 6 4 4 0\n",
      " 5 3 2 0 5 8 7 2 4 1 5 0 5 5 0 7 1 9 5 9 9 7 0 2 8 7 6 0 2 6 6 2 0 0 1 0 5\n",
      " 9 1 7 4 0 5 3 0 8 8 8 8 9 0 8 5 6 1 3 8 9 3 6 1 1 2 6 7 4 2 0 4 6 8 9 0 6\n",
      " 7 1 7 9 2 7 8 1 4 9 6 5 7 0 6 1 5 2 8 1 7 6 4 8 8 3 2 8 8 2 1 8 2 4 6 0 5\n",
      " 3 8 1 6 9 5 3 1 4 7 9 0 3 9 2 2 4 0 1 8 9 5 0 5 1 6 4 5 2 0 9 5 4 5 7 0 5\n",
      " 0 9 1 2 4 9 6 9 7 7 2 7 0 8 3 0 6 3 9 8 5 8 7 8 1 3 6 7 4 3 3 7 8 6 5 8 9\n",
      " 9 7 9 9 1 3 3 5 2 1 3 3 3 9 1 8 9 3 9 9 5 0 5 0 8 6 1 6 4 7 4 1 9 1 8 7 9\n",
      " 2 3 2 7 9 7 0 9 0 9 0 0 7 2 9 0 6 5 8 3 2 3 6 9 0 0 1 4 1 7 3 8 3 1 5 9 2\n",
      " 3]\n"
     ]
    },
    {
     "data": {
      "text/plain": [
       "0.813"
      ]
     },
     "execution_count": 27,
     "metadata": {},
     "output_type": "execute_result"
    }
   ],
   "source": [
    "dev_predictions = make_predictions(X_dev, W1, b1, W2, b2)\n",
    "get_accuracy(dev_predictions, Y_dev)"
   ]
  },
  {
   "cell_type": "code",
   "execution_count": 29,
   "id": "4c0b42d0-25d5-4181-95a1-de29612c2ce0",
   "metadata": {},
   "outputs": [],
   "source": [
    "#~81% accuracy on test dataset"
   ]
  },
  {
   "cell_type": "code",
   "execution_count": null,
   "id": "939cd5aa-7103-40a1-b784-7dcb13aee5b2",
   "metadata": {},
   "outputs": [],
   "source": []
  }
 ],
 "metadata": {
  "kernelspec": {
   "display_name": "Python 3 (ipykernel)",
   "language": "python",
   "name": "python3"
  },
  "language_info": {
   "codemirror_mode": {
    "name": "ipython",
    "version": 3
   },
   "file_extension": ".py",
   "mimetype": "text/x-python",
   "name": "python",
   "nbconvert_exporter": "python",
   "pygments_lexer": "ipython3",
   "version": "3.11.5"
  }
 },
 "nbformat": 4,
 "nbformat_minor": 5
}
